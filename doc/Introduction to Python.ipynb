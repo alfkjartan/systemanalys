{
 "cells": [
  {
   "cell_type": "markdown",
   "metadata": {},
   "source": [
    "# Short introduction to python\n",
    "Kjartan Halvorsen, Febrary 2017\n",
    "## Installation\n",
    "### Anaconda\n",
    "In this course we recomment to use the [Anaconda](https://www.continuum.io/downloads) python distribution. Make sure to download the Python3 version. The Anaconda distribution contains by default many of the most common python modules for scientific computing. However, it does not come with [SimPy](https://simpy.readthedocs.io/en/latest/). To install this, open the Anaconda prompt (Start -> All Programs -> Anaconda -> Anaconda prompt) and write\n",
    "> `> pip install simpy`\n",
    "\n",
    "You can manage your Anaconda installation and launch programs from the Anaconda Navigator (Start -> All Programs -> Anaconda -> Anaconda Navigator). The anaconda distribution does come with Jupyter, which is a program that lets you work with notebooks (code and documentation interwoven) in your favourite browser. Wonderful to work with! \n",
    "\n",
    "### Jupyter \n",
    "Writing and running the simulation will be done using [Jupyter](https://jupyter.readthedocs.io/en/latest/index.html) notebooks. This getting-started-guide is written as a Jupyter notebook. You may be reading this and running the command in jupyter. Or if you are reading the pdf-version you are encouraged to jump over to the Jupyter version right away. You can launch Jupyter notebook from the Anaconda Navigator. This will open a new tab in your default web browser. It shows the current working directory from which you can create folders, files or notebooks. Navigate to the folder containing this notebook (`systemanalys/doc`) and open the notebook Introduction to Python. "
   ]
  },
  {
   "cell_type": "markdown",
   "metadata": {},
   "source": [
    "## Python variables and datatypes\n",
    "To do something useful, we need to define *variables* to hold *data*. In python the *type* of the variable is not specified, so a variable name can hold any kind of data. This is called \"weak typing\". The most common basic data types are"
   ]
  },
  {
   "cell_type": "markdown",
   "metadata": {},
   "source": [
    "numbers"
   ]
  },
  {
   "cell_type": "code",
   "execution_count": 9,
   "metadata": {
    "collapsed": true
   },
   "outputs": [],
   "source": [
    "a = 42"
   ]
  },
  {
   "cell_type": "markdown",
   "metadata": {},
   "source": [
    "strings"
   ]
  },
  {
   "cell_type": "code",
   "execution_count": 10,
   "metadata": {
    "collapsed": true
   },
   "outputs": [],
   "source": [
    "s1 = 'system'\n",
    "s2 = \"system\""
   ]
  },
  {
   "cell_type": "markdown",
   "metadata": {},
   "source": [
    "lists"
   ]
  },
  {
   "cell_type": "code",
   "execution_count": 11,
   "metadata": {
    "collapsed": true
   },
   "outputs": [],
   "source": [
    "b = ['hej', s1, a]"
   ]
  },
  {
   "cell_type": "markdown",
   "metadata": {},
   "source": [
    "In the assignments above, this is what happens in the computer: Memory space is allocated to hold the data (what is on the right hand side of the equal sign), and a variable name is created to reference that data. Also, the variable name is added to the list of current variables. When one variable is assigned to another, the data is not copied (unless it is a simple data type such as a float or integer). Instead we end up with two variables referencing the same piece of data. For instance"
   ]
  },
  {
   "cell_type": "code",
   "execution_count": 12,
   "metadata": {
    "collapsed": false
   },
   "outputs": [
    {
     "data": {
      "text/plain": [
       "['hej', 'system', 42]"
      ]
     },
     "execution_count": 12,
     "metadata": {},
     "output_type": "execute_result"
    }
   ],
   "source": [
    "c = b\n",
    "c"
   ]
  },
  {
   "cell_type": "code",
   "execution_count": 13,
   "metadata": {
    "collapsed": false
   },
   "outputs": [
    {
     "name": "stdout",
     "output_type": "stream",
     "text": [
      "['hej', 'system', 24]\n",
      "['hej', 'system', 24]\n"
     ]
    }
   ],
   "source": [
    "c[-1] = 24\n",
    "print(c)\n",
    "print(b)"
   ]
  },
  {
   "cell_type": "markdown",
   "metadata": {},
   "source": [
    "Note the command `c[-1] = 24`. Negative indices in python is a convenient way of accessing elements starting from the end of the list. Note also that the command is (re)assigning the last element of `c` to the value 24, leaving the other elements unchanged. The data referenced by `c` is modified, and the variable `b` which refers to the same data will now show the same change. This is fundamentally different from writing "
   ]
  },
  {
   "cell_type": "code",
   "execution_count": 17,
   "metadata": {
    "collapsed": false
   },
   "outputs": [
    {
     "data": {
      "text/plain": [
       "['hej', 'system', 24]"
      ]
     },
     "execution_count": 17,
     "metadata": {},
     "output_type": "execute_result"
    }
   ],
   "source": [
    "c = []\n",
    "b"
   ]
  },
  {
   "cell_type": "markdown",
   "metadata": {},
   "source": [
    "Above, an empty list is created and the variable `c` is then assigned to this empty list instead of whatever it was assigned to earlier. The two variables `c` and `b` no longer reference the same data, and the operation leaves `b` entirely unchanged."
   ]
  },
  {
   "cell_type": "markdown",
   "metadata": {},
   "source": [
    "## If, for and while\n",
    "The `if` construct is used whenever certain lines of code should be executed only when some condition holds. For instance"
   ]
  },
  {
   "cell_type": "code",
   "execution_count": 18,
   "metadata": {
    "collapsed": false
   },
   "outputs": [
    {
     "name": "stdout",
     "output_type": "stream",
     "text": [
      "c is empty\n"
     ]
    }
   ],
   "source": [
    "if (c == []):\n",
    "    print(\"c is empty\")"
   ]
  },
  {
   "cell_type": "markdown",
   "metadata": {},
   "source": [
    "The block of code (lines of code) to be executed if the `if` statement is true is identified by being further *indented* than the line starting with `if`. There are no curly brackets or keywords marking the start and end of the block. The first line that are equally or less indented than the `if` line ends the block of code to be executed. In the example above, this line is empty.\n",
    "\n",
    "To repeat some piece of code a known number of times, use a `for` loop:\n"
   ]
  },
  {
   "cell_type": "code",
   "execution_count": 20,
   "metadata": {
    "collapsed": false
   },
   "outputs": [
    {
     "name": "stdout",
     "output_type": "stream",
     "text": [
      "hej\n",
      "system\n",
      "24\n"
     ]
    }
   ],
   "source": [
    "for i in range(len(b)):\n",
    "    print(b[i])\n"
   ]
  },
  {
   "cell_type": "markdown",
   "metadata": {},
   "source": [
    "The function `len()` returns the length of the list, and the function `range(n)` returns a list of integers starting at 0 and ending at $n-1$. It may seem a bit unnecessary to create a list of integers to use as indices into `b`. Sometimes the index is actually needed, but more often we loop over the elements more conveniently"
   ]
  },
  {
   "cell_type": "code",
   "execution_count": 21,
   "metadata": {
    "collapsed": false
   },
   "outputs": [
    {
     "name": "stdout",
     "output_type": "stream",
     "text": [
      "hej\n",
      "system\n",
      "24\n"
     ]
    }
   ],
   "source": [
    "for e in b:\n",
    "    print(e)\n"
   ]
  },
  {
   "cell_type": "markdown",
   "metadata": {},
   "source": [
    "A  `while` loop is useful to repeat a number of lines for as long as some condition is true"
   ]
  },
  {
   "cell_type": "code",
   "execution_count": 22,
   "metadata": {
    "collapsed": false
   },
   "outputs": [
    {
     "data": {
      "text/plain": [
       "1001"
      ]
     },
     "execution_count": 22,
     "metadata": {},
     "output_type": "execute_result"
    }
   ],
   "source": [
    "x = 7\n",
    "while x < 1000:\n",
    "    x += 7\n",
    "x"
   ]
  },
  {
   "cell_type": "markdown",
   "metadata": {},
   "source": [
    "`while` can also be used to create an eternal loop"
   ]
  },
  {
   "cell_type": "code",
   "execution_count": 23,
   "metadata": {
    "collapsed": false
   },
   "outputs": [
    {
     "ename": "KeyboardInterrupt",
     "evalue": "",
     "output_type": "error",
     "traceback": [
      "\u001b[0;31m---------------------------------------------------------------------------\u001b[0m",
      "\u001b[0;31mKeyboardInterrupt\u001b[0m                         Traceback (most recent call last)",
      "\u001b[0;32m<ipython-input-23-efe1d31f8103>\u001b[0m in \u001b[0;36m<module>\u001b[0;34m()\u001b[0m\n\u001b[1;32m      1\u001b[0m \u001b[0;32mwhile\u001b[0m \u001b[0;32mTrue\u001b[0m\u001b[0;34m:\u001b[0m\u001b[0;34m\u001b[0m\u001b[0m\n\u001b[0;32m----> 2\u001b[0;31m     \u001b[0mx\u001b[0m \u001b[0;34m*=\u001b[0m \u001b[0mx\u001b[0m\u001b[0;34m\u001b[0m\u001b[0m\n\u001b[0m\u001b[1;32m      3\u001b[0m \u001b[0mx\u001b[0m\u001b[0;34m\u001b[0m\u001b[0m\n",
      "\u001b[0;31mKeyboardInterrupt\u001b[0m: "
     ]
    }
   ],
   "source": [
    "while True:\n",
    "    x *= x\n",
    "x"
   ]
  },
  {
   "cell_type": "markdown",
   "metadata": {},
   "source": [
    "To interrupt the neverending execution of the above code, look to the Jupyter menu near the top of the browser page and choose Kernel -> Interrupt "
   ]
  },
  {
   "cell_type": "markdown",
   "metadata": {},
   "source": [
    "## Modules\n",
    "So far we have entered the code directly into the command window. More commonly, one writes code in text files which are then read and executed by the interpreter. A python file (with ending `.py`) containing code is referred to as a *module*. At start-up, some of these modules are loaded automatically and are available for use in our own code. Other modules  must be explicitly imported before the code can be accessed. There is, for instance, a `math` module containing a number of mathematical functions, and 'numpy' for numerical computations and linear algebra. To access functions from these modules we must do"
   ]
  },
  {
   "cell_type": "code",
   "execution_count": 26,
   "metadata": {
    "collapsed": true
   },
   "outputs": [],
   "source": [
    "import math\n",
    "import numpy as np"
   ]
  },
  {
   "cell_type": "markdown",
   "metadata": {},
   "source": [
    "then we can use functions such as"
   ]
  },
  {
   "cell_type": "code",
   "execution_count": 27,
   "metadata": {
    "collapsed": false
   },
   "outputs": [
    {
     "name": "stdout",
     "output_type": "stream",
     "text": [
      "1.2246467991473532e-16\n",
      "1.0\n"
     ]
    }
   ],
   "source": [
    "print (math.sin(math.pi))\n",
    "print (np.sin(np.pi/2))"
   ]
  },
  {
   "cell_type": "markdown",
   "metadata": {},
   "source": [
    "other modules of interest include [SciPy](http://docs.scipy.org/doc/scipy/reference/) for scientific computing, [matplotlib](http://matplotlib.org/) for plotting and [pandas](http://pandas.pydata.org/) for data analysis. For simulations of discrete event simulations we will use the [SimPy](https://simpy.readthedocs.io/en/latest/) module.  "
   ]
  },
  {
   "cell_type": "markdown",
   "metadata": {},
   "source": [
    "## Functions\n",
    "Functions are fundamental constructs in programming languages. They make code much easier to understand and maintain by separating and encapsulating operations. Consider this simple function that swops the first and last element of a list:"
   ]
  },
  {
   "cell_type": "code",
   "execution_count": 32,
   "metadata": {
    "collapsed": false
   },
   "outputs": [
    {
     "name": "stdout",
     "output_type": "stream",
     "text": [
      "[24, 'system', 'hej']\n",
      "['hej', 'system', 24]\n"
     ]
    }
   ],
   "source": [
    "def swop(alist):\n",
    "   slask = alist[0]\n",
    "   alist[0] = alist[-1]\n",
    "   alist[-1] = slask\n",
    "    # Think about cases where the function will fail and try to figure out how to make it more robust\n",
    "\n",
    "print(b)\n",
    "swop(b)\n",
    "print(b)"
   ]
  },
  {
   "cell_type": "markdown",
   "metadata": {},
   "source": [
    "The function above did some operations on the input argument, but did not return any value. This is of course possible also:"
   ]
  },
  {
   "cell_type": "code",
   "execution_count": 36,
   "metadata": {
    "collapsed": false
   },
   "outputs": [
    {
     "data": {
      "text/plain": [
       "'hej'"
      ]
     },
     "execution_count": 36,
     "metadata": {},
     "output_type": "execute_result"
    }
   ],
   "source": [
    "def middle(alist):\n",
    "  ''' Will return the element in the middle of the list. \n",
    "      If the length is even, it will return the last element before the middle. '''\n",
    "  ind = int(len(alist)/2 -1) # since indexing starts at 0\n",
    "  return alist[ind]\n",
    "\n",
    "middle(b)"
   ]
  },
  {
   "cell_type": "markdown",
   "metadata": {},
   "source": [
    "## Creating your own datatypes\n",
    "Basically all modern programming languages allows you to create your own datatypes based on the fundamental types that the language provides. Assume that we would like to create a datatype `Customer`. We want to use it as this:"
   ]
  },
  {
   "cell_type": "code",
   "execution_count": null,
   "metadata": {
    "collapsed": true
   },
   "outputs": [],
   "source": [
    "c1 = Customer(\"Pontus\", prio=1)\n",
    "c2 = Curstomer(\"Elisa\", prio=3)\n",
    "queue = [c1, c2]"
   ]
  },
  {
   "cell_type": "markdown",
   "metadata": {},
   "source": [
    "Which gives us a short queue containing two customers. The answer is to define a *class* `Customer` from which we can instantiate (generate) any number of *objects*. The values `name` and `prio` are *attributes* of the object:"
   ]
  },
  {
   "cell_type": "code",
   "execution_count": 45,
   "metadata": {
    "collapsed": false
   },
   "outputs": [
    {
     "data": {
      "text/plain": [
       "[<__main__.Customer at 0x7fb9345a1940>, <__main__.Customer at 0x7fb9345a15f8>]"
      ]
     },
     "execution_count": 45,
     "metadata": {},
     "output_type": "execute_result"
    }
   ],
   "source": [
    "class Customer:\n",
    "  def __init__(self, name, prio=1):\n",
    "     self.name = name\n",
    "     self.prio = prio\n",
    "\n",
    "c1 = Customer(\"Pontus\", prio=1)\n",
    "c2 = Customer(\"Elisa\", prio=3)\n",
    "queue = [c1, c2]\n",
    "queue"
   ]
  },
  {
   "cell_type": "markdown",
   "metadata": {},
   "source": [
    "The function `__init()__` is called the *constructor*. It is called when a new object is created. The first argument, `self`, is a reference to the actual object under construction. We see from the code that the constructor takes two arguments: the name and the priority of the customer. The priority has a default value of 1, which is used if the customer object is created with one argument only. We may check the name and priority of the customers as"
   ]
  },
  {
   "cell_type": "code",
   "execution_count": 46,
   "metadata": {
    "collapsed": false
   },
   "outputs": [
    {
     "name": "stdout",
     "output_type": "stream",
     "text": [
      "Customer Pontus has priority 1\n",
      "Customer Elisa has priority 3\n"
     ]
    }
   ],
   "source": [
    "for c in queue:\n",
    "  print( \"Customer %s has priority %d\" % (c.name, c.prio) )\n"
   ]
  },
  {
   "cell_type": "markdown",
   "metadata": {},
   "source": [
    "The somewhat complicated syntax on the `print` line is actually a quite common way (many programming languages has it) of formatting output that contains numbers. Within the string, the percentage-expressions are placeholders for numbers or strings. The occurance of the placeholders are matched with the elements in the *tuple* following the string (the tuple is the list within parantheses separated from the string by the percentage symbol). A tuple is a fundamental datatype in python. It is a list whose elements cannot be changed after it is constructed.\n",
    "\n",
    "One important advantage of objects and object-oriented programming is that functions written to work on the objects can be associated with the object itself. These functions are called *methods* or *member functions*. If we have an object, say a `list` object, we can print a list of the methods and attributes for that object with the help of the `dir` function:"
   ]
  },
  {
   "cell_type": "code",
   "execution_count": 47,
   "metadata": {
    "collapsed": false
   },
   "outputs": [
    {
     "data": {
      "text/plain": [
       "['__add__',\n",
       " '__class__',\n",
       " '__contains__',\n",
       " '__delattr__',\n",
       " '__delitem__',\n",
       " '__dir__',\n",
       " '__doc__',\n",
       " '__eq__',\n",
       " '__format__',\n",
       " '__ge__',\n",
       " '__getattribute__',\n",
       " '__getitem__',\n",
       " '__gt__',\n",
       " '__hash__',\n",
       " '__iadd__',\n",
       " '__imul__',\n",
       " '__init__',\n",
       " '__init_subclass__',\n",
       " '__iter__',\n",
       " '__le__',\n",
       " '__len__',\n",
       " '__lt__',\n",
       " '__mul__',\n",
       " '__ne__',\n",
       " '__new__',\n",
       " '__reduce__',\n",
       " '__reduce_ex__',\n",
       " '__repr__',\n",
       " '__reversed__',\n",
       " '__rmul__',\n",
       " '__setattr__',\n",
       " '__setitem__',\n",
       " '__sizeof__',\n",
       " '__str__',\n",
       " '__subclasshook__',\n",
       " 'append',\n",
       " 'clear',\n",
       " 'copy',\n",
       " 'count',\n",
       " 'extend',\n",
       " 'index',\n",
       " 'insert',\n",
       " 'pop',\n",
       " 'remove',\n",
       " 'reverse',\n",
       " 'sort']"
      ]
     },
     "execution_count": 47,
     "metadata": {},
     "output_type": "execute_result"
    }
   ],
   "source": [
    "names = ['Evelyn', 'Eirik']\n",
    "dir(names)"
   ]
  },
  {
   "cell_type": "markdown",
   "metadata": {},
   "source": [
    "You can use the `help()` function to get help on specific methods. For instance"
   ]
  },
  {
   "cell_type": "code",
   "execution_count": 48,
   "metadata": {
    "collapsed": false
   },
   "outputs": [
    {
     "name": "stdout",
     "output_type": "stream",
     "text": [
      "Help on built-in function sort:\n",
      "\n",
      "sort(...) method of builtins.list instance\n",
      "    L.sort(key=None, reverse=False) -> None -- stable sort *IN PLACE*\n",
      "\n"
     ]
    }
   ],
   "source": [
    "help(names.sort)"
   ]
  },
  {
   "cell_type": "markdown",
   "metadata": {},
   "source": [
    "This help string tells us that the `sort()` method will sort the list in place, i.e. it will be modified by this method. It will try to sort the list depending on the types of the elements. So sorting a list of strings is"
   ]
  },
  {
   "cell_type": "code",
   "execution_count": 51,
   "metadata": {
    "collapsed": false
   },
   "outputs": [
    {
     "name": "stdout",
     "output_type": "stream",
     "text": [
      "['Evelyn', 'Elisa', 'Eirik', 'Emilio']\n"
     ]
    },
    {
     "data": {
      "text/plain": [
       "['Eirik', 'Elisa', 'Emilio', 'Evelyn']"
      ]
     },
     "execution_count": 51,
     "metadata": {},
     "output_type": "execute_result"
    }
   ],
   "source": [
    "names = [\"Evelyn\", \"Elisa\", \"Eirik\", \"Emilio\"]\n",
    "print(names)\n",
    "names.sort()\n",
    "names"
   ]
  },
  {
   "cell_type": "markdown",
   "metadata": {},
   "source": [
    "## Generators\n",
    "*Generators* is a powerful concept in python. It is used to implement the processes in the pseudo-parallell / process-based simulations in SimPy. You should think of generators as functions which generateas and returns elements in a sequence. Let's look at a simple example which generates a sequence of odd numbers:"
   ]
  },
  {
   "cell_type": "code",
   "execution_count": 54,
   "metadata": {
    "collapsed": false
   },
   "outputs": [
    {
     "name": "stdout",
     "output_type": "stream",
     "text": [
      "1\n",
      "3\n",
      "5\n",
      "7\n",
      "9\n",
      "11\n"
     ]
    }
   ],
   "source": [
    "def oddnumbers():\n",
    "  x = 1\n",
    "  while True:\n",
    "    yield x\n",
    "    x = x+2\n",
    "\n",
    "og = oddnumbers() # This creates the generator\n",
    "\n",
    "print( next(og) ) # Prints 1\n",
    "print( next(og) ) # Prints 3\n",
    "\n",
    "for i in range(4): # The odd numbers 5, 7, 9, 11\n",
    "  print( next(og) )\n"
   ]
  },
  {
   "cell_type": "markdown",
   "metadata": {},
   "source": [
    "Python recognizes a definition of a generator by the existence of the keyword `yield`. In the example, a generator object is created `og = oddnumbers()`, and then the function `next(og)` is called on the generator object. The first call to `next()` causes the code in the definition of the generator to be executed from the top to the first occurance of `yield`. The statment `yield` is similar to a return statement in a regular function. However, in the next call to `next()`, the execution starts at the first line after the `yield` statement that caused the previous return to the caller. The execution goes on to the next occurance of `yield`. The local variables in the definition of the generator retains there values between calls to `next()`. \n",
    "\n",
    "If a call to `next()` should not reach a `yield` statement, but instead reach the end of the definition of the generator, then an exception is raised which tells the caller to stop iterating over the generator: There are no more elements in the sequence. The odd numbers are of course an infinite sequence, so it should be possible (in theory) to generate increasingly large odd numbers by calling `next(og)` forever."
   ]
  },
  {
   "cell_type": "markdown",
   "metadata": {},
   "source": [
    "### A classical example: the Fibonacci numbers\n",
    "The Fibonacci number series is a sequence of integers defined by the difference equation\n",
    "$$ F(n) = F(n-1) + F(n-2) $$\n",
    "together with the starting conditions $F(0) = 0$, $F(1) = 1$. Leonardo Fibonacci used the difference equation as a simple model of the dynamics in a population of rabbits. In the model there are no deaths, so at each time step, the number of rabbits is equal to the number of rabbits in the previous time step plus the number of rabbits born since the last time step. Each rabbit has exactly one offspring in each time step, except for an initial newborn-period of one time step. Hence the number of rabbits in the last time step that are mature enough to reproduce equals the size of the population two time steps back in time. \n",
    "\n",
    "A standard schoolbook implementation of the fibonacci numbers would use recursion to compute the numbers:"
   ]
  },
  {
   "cell_type": "code",
   "execution_count": 58,
   "metadata": {
    "collapsed": false
   },
   "outputs": [
    {
     "data": {
      "text/plain": [
       "13"
      ]
     },
     "execution_count": 58,
     "metadata": {},
     "output_type": "execute_result"
    }
   ],
   "source": [
    "def fib_rec(n):\n",
    "    if n==1 or n==0:\n",
    "        return n\n",
    "    return fib_rec(n-1)+fib_rec(n-2)\n",
    "\n",
    "fib_rec(7)"
   ]
  },
  {
   "cell_type": "markdown",
   "metadata": {},
   "source": [
    "The implementation looks kind of nice, but this type of recursive implementation is not a good idea in a modern high-level language such as python. The reason being that function calls are quite expensive as compared to C. Each call to `fib_rec()` causes two new calls to the function. Also, values are computed twice.\n",
    "  \n",
    "The sequence is much more efficiently implemented with a generator"
   ]
  },
  {
   "cell_type": "code",
   "execution_count": 60,
   "metadata": {
    "collapsed": false
   },
   "outputs": [
    {
     "data": {
      "text/plain": [
       "[1, 1, 2, 3, 5, 8, 13]"
      ]
     },
     "execution_count": 60,
     "metadata": {},
     "output_type": "execute_result"
    }
   ],
   "source": [
    "def fib():\n",
    "    \"\"\" Generates the sequence if fibonacci numbers \"\"\"\n",
    "    fmin1 = 0\n",
    "    fmin2 = 1\n",
    "    while True:\n",
    "        f = fmin1+fmin2\n",
    "        yield f\n",
    "        # Update\n",
    "        (fmin2, fmin1) = (fmin1, f)\n",
    "\n",
    "fg = fib()\n",
    "[next(fg) for i in range(7)]\n"
   ]
  },
  {
   "cell_type": "markdown",
   "metadata": {},
   "source": [
    "The line `[next(fg) for i in range(7)]` is an example of *list comprehension*. A list is generated from the return values of the function call `next(fg)`. This is done 7 times.\n",
    "\n",
    "Timing the two implementations of the fibonacci numbers show clearly the difference in efficiency."
   ]
  },
  {
   "cell_type": "code",
   "execution_count": 66,
   "metadata": {
    "collapsed": false
   },
   "outputs": [
    {
     "name": "stdout",
     "output_type": "stream",
     "text": [
      "0.00012254714965820312\n",
      "0.4177854061126709\n"
     ]
    }
   ],
   "source": [
    "import time\n",
    "t = time.time()\n",
    "fg = fib()\n",
    "fibonacciSequence = [next(fg) for i in range(30)]\n",
    "print( time.time() - t)\n",
    "t = time.time()\n",
    "fib_rec(30)\n",
    "print( time.time() - t)\n"
   ]
  },
  {
   "cell_type": "markdown",
   "metadata": {},
   "source": [
    "## Random number generation\n",
    "Discrete event systems are almost always stochastic systems. To build a model and simulate it, we need sequences of random numbers. A truly random sequence of numbers is actually very difficult to generate. Instead, the computer will generate a completely deterministic sequence of numbers, but whose properties are close to that of a sequence of random numbers. The numbers are therefore called pseudo-random.\n",
    "\n",
    "Python, as well as most other programming languages used in scientific computing, has a built-in pseudo-number generator. We don't have to implement this ourselves. The pseudo-number generator is part of the [random](https://docs.python.org/2/library/random.html) module. It is used as follows"
   ]
  },
  {
   "cell_type": "code",
   "execution_count": 68,
   "metadata": {
    "collapsed": false
   },
   "outputs": [
    {
     "name": "stdout",
     "output_type": "stream",
     "text": [
      "[0.6201987142056988, 1.3120253897349055, 0.7844364422139856]\n",
      "[0.5896986001391438, 1.325007288757538, 1.2354502475094375]\n",
      "[0.6201987142056988, 1.3120253897349055, 0.7844364422139856]\n"
     ]
    }
   ],
   "source": [
    "import random\n",
    "random.seed(1315)\n",
    "print( [random.gauss(mu=1.0, sigma=0.5) for i in range(3)] )\n",
    "random.seed(1314)\n",
    "print( [random.gauss(mu=1.0, sigma=0.5) for i in range(3)] )\n",
    "random.seed(1315)\n",
    "print( [random.gauss(mu=1.0, sigma=0.5) for i in range(3)] )\n"
   ]
  },
  {
   "cell_type": "markdown",
   "metadata": {},
   "source": [
    "Note that the sequence of the first three numbers are the same after the seed is set to the same number. If you choose not to set a seed, the default behaviour of python is to use the system time to set a seed that will be different every time you run your code. The purpose of setting the seed explicitly is to be able to reproduce simulation experiments.\n",
    "\n",
    "Use `dir(random)` to see the different methods available to generate random numbers from different distributions. Use `help()` to get helt on any specific method. For instance"
   ]
  },
  {
   "cell_type": "code",
   "execution_count": 70,
   "metadata": {
    "collapsed": false
   },
   "outputs": [
    {
     "name": "stdout",
     "output_type": "stream",
     "text": [
      "Help on method expovariate in module random:\n",
      "\n",
      "expovariate(lambd) method of random.Random instance\n",
      "    Exponential distribution.\n",
      "    \n",
      "    lambd is 1.0 divided by the desired mean.  It should be\n",
      "    nonzero.  (The parameter would be called \"lambda\", but that is\n",
      "    a reserved word in Python.)  Returned values range from 0 to\n",
      "    positive infinity if lambd is positive, and from negative\n",
      "    infinity to 0 if lambd is negative.\n",
      "\n"
     ]
    }
   ],
   "source": [
    "help(random.expovariate)"
   ]
  },
  {
   "cell_type": "markdown",
   "metadata": {},
   "source": [
    "## The SimPy module\n",
    "  There are good introductory [tutorials](http://simpy.readthedocs.io/en/latest/simpy_intro/index.html), [examples](http://simpy.readthedocs.io/en/latest/examples/index.html) and [documentation](http://simpy.readthedocs.org/en/latest/api_reference/index.html) for SimPy. In this section we just want to point out a key concept to understand when implementing simulation models in SimPy.\n",
    "\n",
    "The *processes* of a discrete event system are implemented as *generators* in python. The defining property of a generator is that it can return a value after a call (by use of the =yield= keyword), and continue execution where it left off at the next call. This is exactly what we need to implement processes that performs some operations and then wait for some event to happen before continuing. \n"
   ]
  },
  {
   "cell_type": "code",
   "execution_count": null,
   "metadata": {
    "collapsed": true
   },
   "outputs": [],
   "source": []
  }
 ],
 "metadata": {
  "kernelspec": {
   "display_name": "Python 3",
   "language": "python",
   "name": "python3"
  },
  "language_info": {
   "codemirror_mode": {
    "name": "ipython",
    "version": 3
   },
   "file_extension": ".py",
   "mimetype": "text/x-python",
   "name": "python",
   "nbconvert_exporter": "python",
   "pygments_lexer": "ipython3",
   "version": "3.6.0"
  }
 },
 "nbformat": 4,
 "nbformat_minor": 0
}
