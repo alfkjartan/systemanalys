{
 "cells": [
  {
   "cell_type": "markdown",
   "metadata": {},
   "source": [
    "# Getting started with SimPy\n",
    "In this tutorial you will get to know the SimPy module for simulating discrete event systems. In this notebook you will see a complete example derived in small steps and implemented using SimPy, with some simple exercises interspersed. After each exercise, you have the possibility to load the correct solution to check your answer.\n",
    "\n",
    "Good luck!"
   ]
  },
  {
   "cell_type": "markdown",
   "metadata": {},
   "source": [
    "## Import modules to be used"
   ]
  },
  {
   "cell_type": "code",
   "execution_count": 30,
   "metadata": {
    "collapsed": true
   },
   "outputs": [],
   "source": [
    "%matplotlib inline\n",
    "import simpy\n",
    "import random\n",
    "import numpy as np\n",
    "import matplotlib as mpl\n",
    "from matplotlib import pyplot as plt"
   ]
  },
  {
   "cell_type": "markdown",
   "metadata": {},
   "source": [
    "## A model of a small slalom hill\n",
    "We will consider a model of a small alpine skiing operation with a single lift, quite common in the suburbs of Stockholm.\n",
    "\n",
    "### Arriving skiiers\n",
    "We start off with a model of the customers (skiiers) arriving to the facility. At first we consider the customers to arrive randomly with a mean frequency which is constant during the day. In the next step, we will make the model of arrivals more realistic.\n",
    "\n",
    "The time between arrivals is random and can be modelled as having an exponential distribution. The probability density function of the exponential distribution with mean $\\frac{1}{\\lambda}$ is \n",
    "$$ f(t) = \\lambda \\mathrm{e}^{-\\lambda t}, $$\n",
    "and the probabilty distribution is\n",
    "$$ F(t) = \\mathrm{Pr}\\,(T \\le t) = \\int_0^t f(\\tau)d\\tau = 1 - \\mathrm{e}^{-\\lambda t}. $$\n",
    "The two functions are plotted below."
   ]
  },
  {
   "cell_type": "code",
   "execution_count": 57,
   "metadata": {
    "collapsed": false
   },
   "outputs": [
    {
     "data": {
      "text/plain": [
       "<matplotlib.text.Text at 0x7f84efa09e48>"
      ]
     },
     "execution_count": 57,
     "metadata": {},
     "output_type": "execute_result"
    },
    {
     "data": {
      "image/png": "[encoded data removed]",
      "text/plain": [
       "<matplotlib.figure.Figure at 0x7f84efad1b70>"
      ]
     },
     "metadata": {},
     "output_type": "display_data"
    }
   ],
   "source": [
    "font_size = 16\n",
    "mpl.rcParams['xtick.labelsize'] = font_size \n",
    "mpl.rcParams['ytick.labelsize'] = font_size \n",
    "mpl.rcParams['axes.titlesize'] = font_size \n",
    "mpl.rcParams['axes.labelsize'] = font_size \n",
    "\n",
    "t = np.linspace(0, 6, 300)\n",
    "lmbda = 1 # The frequency \n",
    "plt.figure(figsize=(14,6))\n",
    "plt.subplot(1,2,1)\n",
    "plt.plot(t, lmbda * np.exp(-t*lmbda), linewidth=2)\n",
    "plt.yticks([0, lmbda], ['0', '$\\lambda$'])\n",
    "plt.xticks([0, 1/lmbda, 2/lmbda, 4/lmbda], ['0', r'$\\frac{1}{\\lambda}$', r'$\\frac{2}{\\lambda}$', r'$\\frac{4}{\\lambda}$'])\n",
    "plt.title('$f(t)$')\n",
    "plt.subplot(1,2,2)\n",
    "plt.plot(t, 1 - np.exp(-t*lmbda), linewidth=2)\n",
    "plt.yticks([0, 1], ['0', '1'])\n",
    "plt.xticks([0, 1/lmbda, 2/lmbda, 4/lmbda], ['0', r'$\\frac{1}{\\lambda}$', r'$\\frac{2}{\\lambda}$', r'$\\frac{4}{\\lambda}$'])\n",
    "plt.title('$F(t)$')"
   ]
  },
  {
   "cell_type": "markdown",
   "metadata": {},
   "source": [
    "From the plot of the probabilty density, we see that it is much more common to observe time between arrivals in the interval $\\left[0, \\; \\frac{1}{\\lambda}\\right]$ $$ p_1 = F(\\frac{1}{\\lambda}) = 1-\\mathrm{e}^{-1} \\approx 0.63$$ than in the interval above the mean value $\\left[\\frac{1}{\\lambda}, \\; \\infty \\right)$ $$p_2 = 1 - p_1 \\approx 0.37.$$ The single parameter $\\lambda$ is the reciprocal  of the mean time, and so it is called the *mean frequency* of the distribution.\n",
    "\n",
    "#### The customer generator process\n",
    "We will now implement a random process that generates new arriving skiers. The process goes in an eternal loop, consisting of two steps: \n",
    "1. Waiting for a random period of time.\n",
    "2. Generating a new customer/skier. This is of course and important event in our discrete event system.\n",
    "The mean frequency of arrivals is one per two minutes. The facility is open from 08:00 ($t=0$) to 16:00 ($t=480$)."
   ]
  },
  {
   "cell_type": "code",
   "execution_count": 41,
   "metadata": {
    "collapsed": false
   },
   "outputs": [
    {
     "name": "stdout",
     "output_type": "stream",
     "text": [
      "Time is   2.77 and skier 1 arrives\n",
      "Time is  16.32 and skier 2 arrives\n",
      "Time is  16.79 and skier 3 arrives\n",
      "Time is  17.17 and skier 4 arrives\n",
      "Time is  19.92 and skier 5 arrives\n",
      "Time is  22.32 and skier 6 arrives\n",
      "Time is  25.14 and skier 7 arrives\n",
      "Time is  25.28 and skier 8 arrives\n",
      "Time is  26.68 and skier 9 arrives\n"
     ]
    }
   ],
   "source": [
    "def skier_generator_process(env, lmbda, arrivals):\n",
    "    \"\"\" Implementation of the process that generates arriving customers to the facility.\n",
    "    \n",
    "        Arguments\n",
    "        env       --  simpy simulation environment object\n",
    "        lmbda     --  the mean arrival frequency\n",
    "        arrivals  --  a list to hold the time of arrivals\n",
    "    \"\"\"\n",
    "   \n",
    "    k = 0 # A counter to indicate the number of skiers created\n",
    "    while True:\n",
    "        # Endless loop\n",
    "        yield env.timeout(random.expovariate(lmbda)) # Wait for a random interval\n",
    "        k += 1\n",
    "        print( \"Time is %6.2f and skier %d arrives\" % (env.now, k) )\n",
    "        arrivals.append(env.now) # Register the time of arrival\n",
    "        \n",
    "env = simpy.Environment() # Create the simulation environment\n",
    "lmbda = 0.5 # One arrival per two minutes on average\n",
    "arr = [] # The list of arrival times\n",
    "env.process( skier_generator_process(env, lmbda, arr) ) # Tell the simulator to process the skier generator process\n",
    "env.run(until=30) # To not get too much output below, we simulate the first 30 minutes."
   ]
  },
  {
   "cell_type": "markdown",
   "metadata": {},
   "source": [
    "We can check the distribution of the interarrival times by plotting a histogram of the observations. Below we have commented out the print statement in the skier_generator_process, and we simulate for a whole day."
   ]
  },
  {
   "cell_type": "code",
   "execution_count": 42,
   "metadata": {
    "collapsed": false
   },
   "outputs": [
    {
     "data": {
      "text/plain": [
       "<matplotlib.text.Text at 0x7f84f00fc908>"
      ]
     },
     "execution_count": 42,
     "metadata": {},
     "output_type": "execute_result"
    },
    {
     "data": {
      "image/png": "[encoded data removed]",
      "text/plain": [
       "<matplotlib.figure.Figure at 0x7f84f01ea128>"
      ]
     },
     "metadata": {},
     "output_type": "display_data"
    }
   ],
   "source": [
    "def skier_generator_process(env, lmbda, arrivals):\n",
    "    \"\"\" Implementation of the process that generates arriving customers to the facility.\n",
    "    \n",
    "        Arguments\n",
    "        env       --  simpy simulation environment object\n",
    "        lmbda     --  the mean arrival frequency\n",
    "        arrivals  --  a list to hold the time of arrivals\n",
    "    \"\"\"\n",
    "   \n",
    "    k = 0 # A counter to indicate the number of skiers created\n",
    "    while True:\n",
    "        # Endless loop\n",
    "        yield env.timeout(random.expovariate(lmbda)) # Wait for a random interval\n",
    "        k += 1\n",
    "        #print( \"Time is %6.2f and skier %d arrives\" % (env.now, k) )\n",
    "        arrivals.append(env.now) # Register the time of arrival\n",
    "        \n",
    "env = simpy.Environment() # Create the simulation environment\n",
    "lmbda = 0.5 # One arrival per two minutes on average\n",
    "arr = [] # The list of arrival times\n",
    "env.process( skier_generator_process(env, lmbda, arr) ) # Tell the simulator to process the skier generator process\n",
    "env.run(until=60*8) # Simulate a day\n",
    "\n",
    "interArrivalTimes = np.diff(np.array(arr)) # The interarrival times are the difference between the arrival times\n",
    "plt.figure(figsize=(12,6))\n",
    "plt.hist(interArrivalTimes)\n",
    "plt.title('Histogram over the interarrival times')"
   ]
  },
  {
   "cell_type": "markdown",
   "metadata": {},
   "source": [
    "#### Generating random numbers\n",
    "To see the available distributions that you can draw samples from with the `random` module do "
   ]
  },
  {
   "cell_type": "code",
   "execution_count": 43,
   "metadata": {
    "collapsed": true
   },
   "outputs": [],
   "source": [
    "?random"
   ]
  },
  {
   "cell_type": "markdown",
   "metadata": {},
   "source": [
    "And to see information about a particular distribution do"
   ]
  },
  {
   "cell_type": "code",
   "execution_count": 44,
   "metadata": {
    "collapsed": true
   },
   "outputs": [],
   "source": [
    "?random.expovariate"
   ]
  },
  {
   "cell_type": "markdown",
   "metadata": {},
   "source": [
    "### Exercise 1\n",
    "Try some other distribution for the time between arrivals in `skier_generator_proc`, and plot the histogram. "
   ]
  },
  {
   "cell_type": "code",
   "execution_count": null,
   "metadata": {
    "collapsed": true
   },
   "outputs": [],
   "source": []
  },
  {
   "cell_type": "markdown",
   "metadata": {},
   "source": [
    "### Exercise 2\n",
    "Run the simulation repeated times and note how many skiers arrived in total during the day. The number will vary between simulations (unless you set a deterministic time between arrivals in your process). Is it what you expected? "
   ]
  },
  {
   "cell_type": "markdown",
   "metadata": {},
   "source": [
    "## A more realistic arrival process\n",
    "Obviously, it is quite unrealistic that the frequency of skiers arriving is constant over the day. Most arrive in the morning to get a whole day of skiing, then the arrival frequency drops off. Possibly it picks up towards the middle of the day for people that just want to ski half a day. The arrival frequency will vary over the day, and maybe it could look like the  graph below."
   ]
  },
  {
   "cell_type": "code",
   "execution_count": 59,
   "metadata": {
    "collapsed": false
   },
   "outputs": [
    {
     "data": {
      "text/plain": [
       "<matplotlib.text.Text at 0x7f84ef951438>"
      ]
     },
     "execution_count": 59,
     "metadata": {},
     "output_type": "execute_result"
    },
    {
     "data": {
      "image/png": "[encoded data removed]",
      "text/plain": [
       "<matplotlib.figure.Figure at 0x7f84ef8b60b8>"
      ]
     },
     "metadata": {},
     "output_type": "display_data"
    }
   ],
   "source": [
    "def arrival_freq(t):\n",
    "    \"\"\" Returns the arrival frequency as a function of time (minutes from start of day) \"\"\"\n",
    "    return np.exp(-t/200)*(1 + 0.5*np.cos(t*2*np.pi/300 - np.pi/6))\n",
    "\n",
    "t = np.linspace(0, 480, 481)\n",
    "plt.figure(figsize=(16,6))\n",
    "plt.plot(t, arrival_freq(t) )\n",
    "plt.title('Arrival frequency varying over the day')\n",
    "plt.xlabel('Time [minutes]')"
   ]
  },
  {
   "cell_type": "markdown",
   "metadata": {},
   "source": [
    "### Exercise 3\n",
    "Note in the code above that a function is defined `arrival_freq`, and then plotted. Modify `skier_generator_proc`to use this function when generating inter-arrival times.  "
   ]
  },
  {
   "cell_type": "code",
   "execution_count": 65,
   "metadata": {
    "collapsed": false
   },
   "outputs": [
    {
     "data": {
      "text/plain": [
       "<matplotlib.text.Text at 0x7f84ef4ea438>"
      ]
     },
     "execution_count": 65,
     "metadata": {},
     "output_type": "execute_result"
    },
    {
     "data": {
      "image/png": "[encoded data removed]",
      "text/plain": [
       "<matplotlib.figure.Figure at 0x7f84ef6101d0>"
      ]
     },
     "metadata": {},
     "output_type": "display_data"
    }
   ],
   "source": [
    "# YOUR CODE HERE\n",
    "def skier_generator_process(env, lmbda, arrivals):\n",
    "    \"\"\" Implementation of the process that generates arriving customers to the facility.\n",
    "    \n",
    "        Arguments\n",
    "        env       --  simpy simulation environment object\n",
    "        lmbda     --  the mean arrival frequency\n",
    "        arrivals  --  a list to hold the time of arrivals\n",
    "    \"\"\"\n",
    "   \n",
    "    k = 0 # A counter to indicate the number of skiers created\n",
    "    while True:\n",
    "        # Endless loop\n",
    "        yield env.timeout( random.expovariate(arrival_freq(env.now)) ) # Wait for a random interval, depending on time of day\n",
    "        k += 1\n",
    "        #print( \"Time is %6.2f and skier %d arrives\" % (env.now, k) )\n",
    "        arrivals.append(env.now) # Register the time of arrival\n",
    "        \n",
    "env = simpy.Environment() # Create the simulation environment\n",
    "lmbda = 0.5 # One arrival per two minutes on average\n",
    "arr = [] # The list of arrival times\n",
    "env.process( skier_generator_process(env, lmbda, arr) ) # Tell the simulator to process the skier generator process\n",
    "env.run(until=60*8) # Simulate a day\n",
    "\n",
    "interArrivalTimesAM = np.diff(np.array(arr[:int(len(arr)/2)])) # The interarrival times first half of the day\n",
    "interArrivalTimesPM = np.diff(np.array(arr[int(len(arr)/2):])) # The interarrival times second half of the day\n",
    "\n",
    "plt.figure(figsize=(16,6))\n",
    "plt.subplot(121)\n",
    "plt.hist(interArrivalTimesAM)\n",
    "plt.title('Interarrival times before noon')\n",
    "plt.subplot(122)\n",
    "plt.hist(interArrivalTimesPM)\n",
    "plt.title('Interarrival times afternoon')"
   ]
  },
  {
   "cell_type": "markdown",
   "metadata": {},
   "source": [
    "## Example 1: A model of an intersection with traffic light\n",
    "### The traffic light process\n",
    "Consider the process of a simple traffic light that switches forever from red to green to yellow and back to red. The light is red for one minute, green for 50 seconds and yellow for 10 seconds.\n",
    "\n",
    "The process will be implemented as a *generator* (see the notebook systemanalys/doc/Introduction to Python.ipynb). The process goes in an infinite loop, pausing in the different states correponding to the color of the light."
   ]
  },
  {
   "cell_type": "code",
   "execution_count": 5,
   "metadata": {
    "collapsed": false
   },
   "outputs": [
    {
     "name": "stdout",
     "output_type": "stream",
     "text": [
      "Time is   0.00 and the traffic light is red\n",
      "Time is  60.00 and the traffic light is green\n",
      "Time is 110.00 and the traffic light is yellow\n",
      "Time is 120.00 and the traffic light is red\n",
      "Time is 180.00 and the traffic light is green\n",
      "Time is 230.00 and the traffic light is yellow\n",
      "Time is 240.00 and the traffic light is red\n",
      "Time is 300.00 and the traffic light is green\n",
      "Time is 350.00 and the traffic light is yellow\n",
      "Time is 360.00 and the traffic light is red\n",
      "Time is 420.00 and the traffic light is green\n",
      "Time is 470.00 and the traffic light is yellow\n",
      "Time is 480.00 and the traffic light is red\n",
      "Time is 540.00 and the traffic light is green\n",
      "Time is 590.00 and the traffic light is yellow\n"
     ]
    }
   ],
   "source": [
    "def traffic_light_proc(env):\n",
    "    # The argument env is the simulation environment object. This is needed in order to interact with the simulator\n",
    "    state = \"red\";\n",
    "    while True:   \n",
    "        # Neverending loop\n",
    "        print(\"Time is %6.2f and the traffic light is %s\" % (env.now, state))\n",
    "        yield env.timeout(60) # A timeout event is returned to the simulator. \n",
    "        # The timout event will happen after 60 timeunits and then the process will continue \n",
    "     \n",
    "        state = \"green\"\n",
    "        print(\"Time is %6.2f and the traffic light is %s\" % (env.now, state))\n",
    "        yield env.timeout(50) # This event will happen after 50 timeunits.\n",
    "        \n",
    "        state = \"yellow\"\n",
    "        print(\"Time is %6.2f and the traffic light is %s\" % (env.now, state))\n",
    "        yield env.timeout(10) # This event will happen after 10 timeunits\n",
    "        \n",
    "        state = \"red\"\n",
    "\n",
    "env = simpy.Environment() # Create a simulation environment object\n",
    "env.process(traffic_light_proc(env)) # Tell the environment to process the traffic light\n",
    "env.run(until=600) # Run the simulation for 600 time units (10 minutes)"
   ]
  },
  {
   "cell_type": "markdown",
   "metadata": {},
   "source": [
    "### Checking the state (color) of the traffic light\n",
    "The color of the traffic light is of course important in a simulation of an intersection. So this information should be readily available to other processes in the simulation model. We can modify the code above to obtain this, using a dictionary to hold the state of the traffic light."
   ]
  },
  {
   "cell_type": "code",
   "execution_count": 7,
   "metadata": {
    "collapsed": false
   },
   "outputs": [
    {
     "name": "stdout",
     "output_type": "stream",
     "text": [
      "Time is   0.00 and the traffic light is red\n",
      "Time is 600.00 and the traffic light is yellow\n"
     ]
    }
   ],
   "source": [
    "trafficLight = {\"state\": \"red\"}\n",
    "def traffic_light_proc(env, tl):\n",
    "    # The argument env is the simulation environment object. \n",
    "    # The tl argument is a dictionary holding the state (color) of the traffic light\n",
    "    tl['state'] = \"red\";\n",
    "    while True:   \n",
    "        # Neverending loop\n",
    "        yield env.timeout(60) # A timeout event is returned to the simulator. \n",
    "     \n",
    "        tl['state'] = \"green\"\n",
    "        yield env.timeout(50) # This event will happen after 50 timeunits.\n",
    "        \n",
    "        tl['state'] = \"yellow\"\n",
    "        yield env.timeout(10) # This event will happen after 10 timeunits\n",
    "        \n",
    "        tl['state'] = \"red\"\n",
    "\n",
    "env = simpy.Environment() # Create a simulation environment object\n",
    "env.process(traffic_light_proc(env, trafficLight)) # Tell the environment to process the traffic light\n",
    "\n",
    "print(\"Time is %6.2f and the traffic light is %s\" % (env.now, trafficLight['state']))\n",
    "env.run(until=600) # Run the simulation for 600 time units (10 minutes)      \n",
    "print(\"Time is %6.2f and the traffic light is %s\" % (env.now, trafficLight['state']))"
   ]
  },
  {
   "cell_type": "markdown",
   "metadata": {},
   "source": [
    "### A car approaches the intersection\n",
    "It is time to make our model of the intersection somewhat more interesting. Consider the process of a car approaching the intersection. The driver will typically check the state of the traffic light. If it is green or yellow she will continue through the intersection. If the color is red she will stop and wait for the color to change. To make the implementation simpler (for now) we assume that the driver will check the light every eleven seconds to see if it has changed. "
   ]
  },
  {
   "cell_type": "code",
   "execution_count": 14,
   "metadata": {
    "collapsed": false
   },
   "outputs": [
    {
     "name": "stdout",
     "output_type": "stream",
     "text": [
      "Time is   0.00 and the traffic light is red\n",
      "Time is  66.00 and the light has changed to green. Hitting the accelerator.\n",
      "Time is 600.00 and the traffic light is yellow\n"
     ]
    }
   ],
   "source": [
    "def car_proc(env, tl):\n",
    "    # Check the state of the traffic light\n",
    "    if tl['state'] == 'red':\n",
    "        # Break. Wait and check every 10 seconds until the light changes to green\n",
    "        while tl['state'] == 'red':\n",
    "            yield env.timeout(11)\n",
    "        # Green! Time to go\n",
    "        print( \"Time is %6.2f and the light has changed to %s. Hitting the accelerator.\" % (env.now, tl['state']) )\n",
    "    else:\n",
    "        # Actually not much more to do than drive on\n",
    "        print( \"Time is %6.2f and the light is %s. Driving through.\" % (env.now, tl['state']) )\n",
    "\n",
    "trafficLight['state'] = \"red\"\n",
    "\n",
    "env = simpy.Environment() # Create a simulation environment object\n",
    "env.process(traffic_light_proc(env, trafficLight)) # Tell the environment to process the traffic light\n",
    "env.process(car_proc(env, trafficLight)) # Tell the environment to process the car process\n",
    "\n",
    "print(\"Time is %6.2f and the traffic light is %s\" % (env.now, trafficLight['state']))\n",
    "env.run(until=600) # Run the simulation for 600 time units (10 minutes)      \n",
    "print(\"Time is %6.2f and the traffic light is %s\" % (env.now, trafficLight['state']))"
   ]
  },
  {
   "cell_type": "markdown",
   "metadata": {},
   "source": [
    "### Exercise 1.1 Random arrival of the car\n",
    "In the previous simulation model, the car arrived at the start of the simulation, exactly as the cycle of the traffic light started from red. In a more realistic model, the car arrives at some random point in time. Assume that the time from the start of the simulation until the car arrives at the intersection is modelled "
   ]
  },
  {
   "cell_type": "code",
   "execution_count": null,
   "metadata": {
    "collapsed": true
   },
   "outputs": [],
   "source": []
  }
 ],
 "metadata": {
  "kernelspec": {
   "display_name": "Python 3",
   "language": "python",
   "name": "python3"
  },
  "language_info": {
   "codemirror_mode": {
    "name": "ipython",
    "version": 3
   },
   "file_extension": ".py",
   "mimetype": "text/x-python",
   "name": "python",
   "nbconvert_exporter": "python",
   "pygments_lexer": "ipython3",
   "version": "3.6.0"
  }
 },
 "nbformat": 4,
 "nbformat_minor": 0
}
