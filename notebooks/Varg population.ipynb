{
 "cells": [
  {
   "cell_type": "markdown",
   "metadata": {},
   "source": [
    "# Modell av en vargflock\n",
    "Vi betraktar här en enkel modell av en vargpopulation i ett avgränsat geografiskt område. På grund av att populationen är liten, så måste man i modellen ta hänsyn till slumpmässigheten i när födslar och dödsfall inträffar. Det går alltså inte att ställa up en kontinuerlig modell av systemet. Födslar inträffar enligt en Poisson-process, där frekvensparametern $\\lambda$ beror på antalet vargar, $N$,  enlig $\\lambda=\\lambda_0N$. Levetiden för en varg kan beskrivas med en normalfördelning med medelvärde (medellivslängd) 4 år och standardavvikelsen 1 år.\n",
    "\n",
    "Modellen kan beskrivas med flödesschemat nedanför\n",
    "\n",
    "![Flödesschema för vargmodellen](http://alfkjartan.github.io/images/varg_process_oriented.png \"Populationsmodell\")"
   ]
  },
  {
   "cell_type": "code",
   "execution_count": 1,
   "metadata": {
    "collapsed": false
   },
   "outputs": [
    {
     "name": "stdout",
     "output_type": "stream",
     "text": [
      "Using matplotlib backend: Qt5Agg\n"
     ]
    }
   ],
   "source": [
    "%matplotlib\n",
    "import simpy\n",
    "import random\n",
    "import numpy as np\n",
    "import matplotlib as mpl\n",
    "from matplotlib import pyplot as plt"
   ]
  },
  {
   "cell_type": "code",
   "execution_count": 37,
   "metadata": {
    "collapsed": false
   },
   "outputs": [
    {
     "name": "stdout",
     "output_type": "stream",
     "text": [
      "1\n"
     ]
    }
   ],
   "source": [
    "def varg_generator_proc(env, lmbda0, pop, popsize):\n",
    "    \"\"\" Varg-generator-processen. \n",
    "    \n",
    "        Argument\n",
    "        env     --  simuleringsmiljöobkektet\n",
    "        lmbda0  --  medelfödselsfrekvensen per varg\n",
    "        pop     --  lista innehållande varje levande varg\n",
    "        popsize --  lista med observationer av populationsstorleker\n",
    "    \"\"\"\n",
    "    k = 0\n",
    "    while len(pop) > 0: \n",
    "        yield env.timeout( random.expovariate(lmbda0*len(pop)) )\n",
    "        k += 1\n",
    "        env.process( varg_proc(env, \"Varg-%d\" %k, pop, popsize) )\n",
    "        \n",
    "def varg_proc(env, namn, pop, popsize):\n",
    "    \"\"\" Varg-processen\n",
    "        Argument\n",
    "        env     --  simuleringsmiljöobkektet\n",
    "        namn    --  unik sträng för varj varg\n",
    "        pop     --  lista innehållande varje levande varg\n",
    "        popsize --  lista med observationer av populationsstorleker\n",
    "    \"\"\"\n",
    "\n",
    "    pop.append(namn)\n",
    "    popsize.append( (env.now, len(pop)) )\n",
    "    yield env.timeout( max( (0, random.normalvariate(4, 1)) ) )\n",
    "    pop.remove(namn)\n",
    "    popsize.append( (env.now, len(pop)) )\n",
    "    \n",
    "def run_sim(initSize=8, lmbda0=0.25, horizon=20, plot=False):\n",
    "    \"\"\" Körer simuleringsmodellen en gång. Returnerar storleken\n",
    "        på populationen vid simuleringens slut.\n",
    "    \n",
    "        Argument\n",
    "        initSize  -- storleken på populationen vid t=0\n",
    "        lmbda0    -- medelfödselsfrekvensen per individ\n",
    "        horizon   -- antal år att simulera\n",
    "        plot      -- True om populationsstoleken ska plottas mot tiden\n",
    "    \"\"\"\n",
    "    env = simpy.Environment()\n",
    "    pop = []\n",
    "    popsize = []\n",
    "    \n",
    "    for i in range(initSize):\n",
    "        # Skapa 8 individer till att börja med\n",
    "        env.process( varg_proc(env, \"Ursprungsvarg-%d\" %i, pop, popsize) )\n",
    "\n",
    "    env.process( varg_generator_proc(env, lmbda0, pop, popsize) )\n",
    "    env.run(until=horizon)\n",
    "\n",
    "    if plot:\n",
    "        popstorlek = np.asarray(popsize)\n",
    "        plt.figure(1, figsize=(14,6))\n",
    "        plt.step(popstorlek[:,0], popstorlek[:,1], where='post', \n",
    "                 linewidth=4 )\n",
    "        plt.ylim((0,60))\n",
    "        plt.xlim((0,21))\n",
    "        plt.title(\"Populations storlek\")\n",
    "        \n",
    "    return len(pop)\n",
    "\n",
    "# Population at end of simulation\n",
    "print( run_sim(plot=True) )\n",
    "    "
   ]
  },
  {
   "cell_type": "code",
   "execution_count": 38,
   "metadata": {
    "collapsed": false
   },
   "outputs": [
    {
     "name": "stdout",
     "output_type": "stream",
     "text": [
      "7\n"
     ]
    }
   ],
   "source": [
    "# Population at end of simulation\n",
    "print( run_sim(plot=True) )"
   ]
  },
  {
   "cell_type": "code",
   "execution_count": 39,
   "metadata": {
    "collapsed": false
   },
   "outputs": [
    {
     "data": {
      "text/plain": [
       "['BPF',\n",
       " 'LOG4',\n",
       " 'NV_MAGICCONST',\n",
       " 'RECIP_BPF',\n",
       " 'Random',\n",
       " 'SG_MAGICCONST',\n",
       " 'SystemRandom',\n",
       " 'TWOPI',\n",
       " '_BuiltinMethodType',\n",
       " '_MethodType',\n",
       " '_Sequence',\n",
       " '_Set',\n",
       " '__all__',\n",
       " '__builtins__',\n",
       " '__cached__',\n",
       " '__doc__',\n",
       " '__file__',\n",
       " '__loader__',\n",
       " '__name__',\n",
       " '__package__',\n",
       " '__spec__',\n",
       " '_acos',\n",
       " '_bisect',\n",
       " '_ceil',\n",
       " '_cos',\n",
       " '_e',\n",
       " '_exp',\n",
       " '_inst',\n",
       " '_itertools',\n",
       " '_log',\n",
       " '_pi',\n",
       " '_random',\n",
       " '_sha512',\n",
       " '_sin',\n",
       " '_sqrt',\n",
       " '_test',\n",
       " '_test_generator',\n",
       " '_urandom',\n",
       " '_warn',\n",
       " 'betavariate',\n",
       " 'choice',\n",
       " 'choices',\n",
       " 'expovariate',\n",
       " 'gammavariate',\n",
       " 'gauss',\n",
       " 'getrandbits',\n",
       " 'getstate',\n",
       " 'lognormvariate',\n",
       " 'normalvariate',\n",
       " 'paretovariate',\n",
       " 'randint',\n",
       " 'random',\n",
       " 'randrange',\n",
       " 'sample',\n",
       " 'seed',\n",
       " 'setstate',\n",
       " 'shuffle',\n",
       " 'triangular',\n",
       " 'uniform',\n",
       " 'vonmisesvariate',\n",
       " 'weibullvariate']"
      ]
     },
     "execution_count": 39,
     "metadata": {},
     "output_type": "execute_result"
    }
   ],
   "source": [
    "dir(random)"
   ]
  }
 ],
 "metadata": {
  "kernelspec": {
   "display_name": "Python 3",
   "language": "python",
   "name": "python3"
  },
  "language_info": {
   "codemirror_mode": {
    "name": "ipython",
    "version": 3
   },
   "file_extension": ".py",
   "mimetype": "text/x-python",
   "name": "python",
   "nbconvert_exporter": "python",
   "pygments_lexer": "ipython3",
   "version": "3.6.0"
  }
 },
 "nbformat": 4,
 "nbformat_minor": 0
}
