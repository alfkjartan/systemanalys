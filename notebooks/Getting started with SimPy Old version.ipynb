{
 "cells": [
  {
   "cell_type": "markdown",
   "metadata": {},
   "source": [
    "# Getting started with SimPy\n",
    "In this tutorial you will get to know the SimPy module for simulating discrete event systems. In this notebook you will see several examples of simple models implemented using SimPy, with some simple exercises following each example. After each exercise, you have the possibility to load the correct solution to check your answer.\n",
    "\n",
    "Good luck!"
   ]
  },
  {
   "cell_type": "markdown",
   "metadata": {},
   "source": [
    "## Import modules to be used"
   ]
  },
  {
   "cell_type": "code",
   "execution_count": 25,
   "metadata": {
    "collapsed": true
   },
   "outputs": [],
   "source": [
    "%matplotlib inline\n",
    "import simpy\n",
    "import random\n",
    "import numpy as np\n",
    "import matplotlib as mpl\n",
    "from matplotlib import pyplot as plt"
   ]
  },
  {
   "cell_type": "markdown",
   "metadata": {},
   "source": [
    "## Example 1: A random process\n",
    "We start off with a model of the hits received by a geiger counter measuring radioactivity. The time between hits is random and can be modelled as having an exponential distribution. The probability density function of the exponential distribution is given below"
   ]
  },
  {
   "cell_type": "code",
   "execution_count": 29,
   "metadata": {
    "collapsed": false
   },
   "outputs": [
    {
     "data": {
      "image/png": "[encoded data removed]",
      "text/plain": [
       "<matplotlib.figure.Figure at 0x7f84f044b278>"
      ]
     },
     "metadata": {},
     "output_type": "display_data"
    }
   ],
   "source": [
    "label_size = 16\n",
    "mpl.rcParams['xtick.labelsize'] = label_size \n",
    "mpl.rcParams['ytick.labelsize'] = label_size \n",
    "\n",
    "t = np.linspace(0, 10, 300)\n",
    "lmbda = 1 # The frequency \n",
    "plt.figure(figsize=(10,6))\n",
    "plt.plot(t, lmbda * np.exp(-t*lmbda), linewidth=2)\n",
    "plt.yticks([0, lmbda], ['0', '$\\lambda$'])\n",
    "xt = plt.xticks([0, 1/lmbda, 4/lmbda, 8/lmbda], ['0', r'$\\frac{1}{\\lambda}$', r'$\\frac{4}{\\lambda}$', r'$\\frac{8}{\\lambda}$'])"
   ]
  },
  {
   "cell_type": "code",
   "execution_count": null,
   "metadata": {
    "collapsed": true
   },
   "outputs": [],
   "source": []
  },
  {
   "cell_type": "markdown",
   "metadata": {},
   "source": [
    "## Example 1: A model of an intersection with traffic light\n",
    "### The traffic light process\n",
    "Consider the process of a simple traffic light that switches forever from red to green to yellow and back to red. The light is red for one minute, green for 50 seconds and yellow for 10 seconds.\n",
    "\n",
    "The process will be implemented as a *generator* (see the notebook systemanalys/doc/Introduction to Python.ipynb). The process goes in an infinite loop, pausing in the different states correponding to the color of the light."
   ]
  },
  {
   "cell_type": "code",
   "execution_count": 5,
   "metadata": {
    "collapsed": false
   },
   "outputs": [
    {
     "name": "stdout",
     "output_type": "stream",
     "text": [
      "Time is   0.00 and the traffic light is red\n",
      "Time is  60.00 and the traffic light is green\n",
      "Time is 110.00 and the traffic light is yellow\n",
      "Time is 120.00 and the traffic light is red\n",
      "Time is 180.00 and the traffic light is green\n",
      "Time is 230.00 and the traffic light is yellow\n",
      "Time is 240.00 and the traffic light is red\n",
      "Time is 300.00 and the traffic light is green\n",
      "Time is 350.00 and the traffic light is yellow\n",
      "Time is 360.00 and the traffic light is red\n",
      "Time is 420.00 and the traffic light is green\n",
      "Time is 470.00 and the traffic light is yellow\n",
      "Time is 480.00 and the traffic light is red\n",
      "Time is 540.00 and the traffic light is green\n",
      "Time is 590.00 and the traffic light is yellow\n"
     ]
    }
   ],
   "source": [
    "def traffic_light_proc(env):\n",
    "    # The argument env is the simulation environment object. This is needed in order to interact with the simulator\n",
    "    state = \"red\";\n",
    "    while True:   \n",
    "        # Neverending loop\n",
    "        print(\"Time is %6.2f and the traffic light is %s\" % (env.now, state))\n",
    "        yield env.timeout(60) # A timeout event is returned to the simulator. \n",
    "        # The timout event will happen after 60 timeunits and then the process will continue \n",
    "     \n",
    "        state = \"green\"\n",
    "        print(\"Time is %6.2f and the traffic light is %s\" % (env.now, state))\n",
    "        yield env.timeout(50) # This event will happen after 50 timeunits.\n",
    "        \n",
    "        state = \"yellow\"\n",
    "        print(\"Time is %6.2f and the traffic light is %s\" % (env.now, state))\n",
    "        yield env.timeout(10) # This event will happen after 10 timeunits\n",
    "        \n",
    "        state = \"red\"\n",
    "\n",
    "env = simpy.Environment() # Create a simulation environment object\n",
    "env.process(traffic_light_proc(env)) # Tell the environment to process the traffic light\n",
    "env.run(until=600) # Run the simulation for 600 time units (10 minutes)"
   ]
  },
  {
   "cell_type": "markdown",
   "metadata": {},
   "source": [
    "### Checking the state (color) of the traffic light\n",
    "The color of the traffic light is of course important in a simulation of an intersection. So this information should be readily available to other processes in the simulation model. We can modify the code above to obtain this, using a dictionary to hold the state of the traffic light."
   ]
  },
  {
   "cell_type": "code",
   "execution_count": 7,
   "metadata": {
    "collapsed": false
   },
   "outputs": [
    {
     "name": "stdout",
     "output_type": "stream",
     "text": [
      "Time is   0.00 and the traffic light is red\n",
      "Time is 600.00 and the traffic light is yellow\n"
     ]
    }
   ],
   "source": [
    "trafficLight = {\"state\": \"red\"}\n",
    "def traffic_light_proc(env, tl):\n",
    "    # The argument env is the simulation environment object. \n",
    "    # The tl argument is a dictionary holding the state (color) of the traffic light\n",
    "    tl['state'] = \"red\";\n",
    "    while True:   \n",
    "        # Neverending loop\n",
    "        yield env.timeout(60) # A timeout event is returned to the simulator. \n",
    "     \n",
    "        tl['state'] = \"green\"\n",
    "        yield env.timeout(50) # This event will happen after 50 timeunits.\n",
    "        \n",
    "        tl['state'] = \"yellow\"\n",
    "        yield env.timeout(10) # This event will happen after 10 timeunits\n",
    "        \n",
    "        tl['state'] = \"red\"\n",
    "\n",
    "env = simpy.Environment() # Create a simulation environment object\n",
    "env.process(traffic_light_proc(env, trafficLight)) # Tell the environment to process the traffic light\n",
    "\n",
    "print(\"Time is %6.2f and the traffic light is %s\" % (env.now, trafficLight['state']))\n",
    "env.run(until=600) # Run the simulation for 600 time units (10 minutes)      \n",
    "print(\"Time is %6.2f and the traffic light is %s\" % (env.now, trafficLight['state']))"
   ]
  },
  {
   "cell_type": "markdown",
   "metadata": {},
   "source": [
    "### A car approaches the intersection\n",
    "It is time to make our model of the intersection somewhat more interesting. Consider the process of a car approaching the intersection. The driver will typically check the state of the traffic light. If it is green or yellow she will continue through the intersection. If the color is red she will stop and wait for the color to change. To make the implementation simpler (for now) we assume that the driver will check the light every eleven seconds to see if it has changed. "
   ]
  },
  {
   "cell_type": "code",
   "execution_count": 14,
   "metadata": {
    "collapsed": false
   },
   "outputs": [
    {
     "name": "stdout",
     "output_type": "stream",
     "text": [
      "Time is   0.00 and the traffic light is red\n",
      "Time is  66.00 and the light has changed to green. Hitting the accelerator.\n",
      "Time is 600.00 and the traffic light is yellow\n"
     ]
    }
   ],
   "source": [
    "def car_proc(env, tl):\n",
    "    # Check the state of the traffic light\n",
    "    if tl['state'] == 'red':\n",
    "        # Break. Wait and check every 10 seconds until the light changes to green\n",
    "        while tl['state'] == 'red':\n",
    "            yield env.timeout(11)\n",
    "        # Green! Time to go\n",
    "        print( \"Time is %6.2f and the light has changed to %s. Hitting the accelerator.\" % (env.now, tl['state']) )\n",
    "    else:\n",
    "        # Actually not much more to do than drive on\n",
    "        print( \"Time is %6.2f and the light is %s. Driving through.\" % (env.now, tl['state']) )\n",
    "\n",
    "trafficLight['state'] = \"red\"\n",
    "\n",
    "env = simpy.Environment() # Create a simulation environment object\n",
    "env.process(traffic_light_proc(env, trafficLight)) # Tell the environment to process the traffic light\n",
    "env.process(car_proc(env, trafficLight)) # Tell the environment to process the car process\n",
    "\n",
    "print(\"Time is %6.2f and the traffic light is %s\" % (env.now, trafficLight['state']))\n",
    "env.run(until=600) # Run the simulation for 600 time units (10 minutes)      \n",
    "print(\"Time is %6.2f and the traffic light is %s\" % (env.now, trafficLight['state']))"
   ]
  },
  {
   "cell_type": "markdown",
   "metadata": {},
   "source": [
    "### Exercise 1.1 Random arrival of the car\n",
    "In the previous simulation model, the car arrived at the start of the simulation, exactly as the cycle of the traffic light started from red. In a more realistic model, the car arrives at some random point in time. Assume that the time from the start of the simulation until the car arrives at the intersection is modelled "
   ]
  },
  {
   "cell_type": "code",
   "execution_count": null,
   "metadata": {
    "collapsed": true
   },
   "outputs": [],
   "source": []
  }
 ],
 "metadata": {
  "kernelspec": {
   "display_name": "Python 3",
   "language": "python",
   "name": "python3"
  },
  "language_info": {
   "codemirror_mode": {
    "name": "ipython",
    "version": 3
   },
   "file_extension": ".py",
   "mimetype": "text/x-python",
   "name": "python",
   "nbconvert_exporter": "python",
   "pygments_lexer": "ipython3",
   "version": "3.6.0"
  }
 },
 "nbformat": 4,
 "nbformat_minor": 0
}
