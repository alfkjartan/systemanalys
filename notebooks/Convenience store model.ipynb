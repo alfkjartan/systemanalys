{
 "cells": [
  {
   "cell_type": "markdown",
   "metadata": {},
   "source": [
    "# Model of a convenience store\n",
    "\n",
    "This notebook shows the implementation of the simple convenience store example that we look at in class."
   ]
  },
  {
   "cell_type": "code",
   "execution_count": 1,
   "metadata": {
    "collapsed": false
   },
   "outputs": [],
   "source": [
    "import simpy\n",
    "import random\n",
    "import numpy as np\n",
    "import matplotlib.pyplot as plt"
   ]
  },
  {
   "cell_type": "markdown",
   "metadata": {},
   "source": [
    "## The customer process\n",
    "The customer arrives at the store, spends some time choosing items to buy, then enters the queue to pay at the cashier. \n",
    "\n",
    "<img src=\"./figures/customer_proc.png\" alt=\"Customer process\" style=\"width: 500px;\"/>"
   ]
  },
  {
   "cell_type": "code",
   "execution_count": 2,
   "metadata": {
    "collapsed": true
   },
   "outputs": [],
   "source": [
    "def customer_proc(env, name, shoppingTime, serviceTime, customerQ, serverQ, qMonitor, waitMonitor):\n",
    "    \"\"\"\n",
    "        Arguments\n",
    "        \n",
    "        env          --  the simulation environment\n",
    "        name         --  a unique name for each customer\n",
    "        shoppingTime --  the time spent shopping \n",
    "        serviceTime  --  the time spent paying\n",
    "        customerQ    --  a list representing the queue of waiting customers in front of the cashier\n",
    "        serverQ      --  a list representing cashiers waiting for customers to arrive\n",
    "        qMonitor     --  a list storing observations of the queue length\n",
    "        waitMonitor  --  a list storing observations of waiting times for the simulated customers \n",
    "    \"\"\"\n",
    "    # Enter store, check time\n",
    "    timeIn = env.now\n",
    "    \n",
    "    # Go shopping\n",
    "    yield env.timeout(shoppingTime)\n",
    "    \n",
    "    # Done shopping, go to the cashier\n",
    "    \n",
    "    # First check if the cashier is waiting passive. If so call the corresponding arrivalEvent\n",
    "    if serverQ != []:\n",
    "        arrivalEvent = serverQ.pop()\n",
    "        arrivalEvent.succeed()\n",
    "        \n",
    "    serviceDoneEvent = env.event() # Create an event. This event will be triggered when the customer is finished with the service\n",
    "    # The customer in line is represented by a tuple (event, serviceTime). \n",
    "    customerQ.append((serviceDoneEvent, serviceTime )) \n",
    "    \n",
    "    qMonitor.append((env.now, len(customerQ))) # Record the queue length\n",
    "    \n",
    "    yield serviceDoneEvent # Don't know how long to wait, the event will be called by the cashier \n",
    "    \n",
    "    # Done paying. Check time and leave\n",
    "    waitMonitor.append(env.now-timeIn)\n",
    "    "
   ]
  },
  {
   "cell_type": "markdown",
   "metadata": {},
   "source": [
    "## The cashier process\n",
    "The cashier takes care of the customers, one at the time, in the order they arrived to the queue. When no customers are waiting in line, the cashier will passivate, waiting for the event of a new customer arriving.\n",
    "\n",
    "<img src=\"./figures/cashier_proc.png\" alt=\"Cashier process\" style=\"width: 500px;\"/>"
   ]
  },
  {
   "cell_type": "code",
   "execution_count": 3,
   "metadata": {
    "collapsed": true
   },
   "outputs": [],
   "source": [
    "def cashier_proc(env, customerQ, serverQ, qMonitor):\n",
    "    \"\"\"\n",
    "        Arguments\n",
    "        \n",
    "        env          --  the simulation environment\n",
    "        customerQ    --  a list representing the queue of waiting customers in front of the cashier\n",
    "        serverQ      --  a list representing cashiers waiting for customers to arrive\n",
    "        qMonitor     --  a list storing observations of the queue length\n",
    "    \"\"\"\n",
    "    # Working 24/7\n",
    "    while True:\n",
    "        # Check if customer waiting in line\n",
    "        while customerQ != []:\n",
    "            (doneEvent, serveTime) = customerQ.pop(0) # Remove first customer from queue\n",
    "            qMonitor.append((env.now, len(customerQ))) # Record length of queue\n",
    "            \n",
    "            yield env.timeout(serveTime) # Wait for the timeout event to happen. Then the service is finished\n",
    "            doneEvent.succeed() # Trigger the event to inform the waiting customer that the service is done\n",
    "        # No more customers waiting.\n",
    "        arrivalEvent = env.event() # Create a new event indicating a new arrival\n",
    "        serverQ.append(arrivalEvent) # The next customer will find this event and call it\n",
    "        yield arrivalEvent # Wait until the arrival event happens\n",
    "        \n",
    "        "
   ]
  },
  {
   "cell_type": "markdown",
   "metadata": {},
   "source": [
    "## The customer generator process\n",
    "This process is quite standard. The process waits for a random time, then generates and activates a new customer.\n",
    "\n",
    "<img src=\"./figures/customergen_proc.png\" alt=\"Customer generator process\" style=\"width: 300px;\"/>"
   ]
  },
  {
   "cell_type": "code",
   "execution_count": 11,
   "metadata": {
    "collapsed": true
   },
   "outputs": [],
   "source": [
    "def customer_generator_proc(env, customerQ, serverQ, \n",
    "                            qMonitor, waitMonitor):\n",
    "    \"\"\"\n",
    "        Arguments\n",
    "\n",
    "        env            --  the simulation environment\n",
    "        customerQ                     --  a list representing the queue of waiting customers\n",
    "        serverQ                       --  a list representing cashiers waiting for customers to arrive\n",
    "        qMonitor                      --  a list storing observations of the queue length\n",
    "        waitMonitor                   --  a list storing observations of waiting times\n",
    "    \"\"\"\n",
    "    k = 0\n",
    "    while True:\n",
    "        # On average two customers per minute enters\n",
    "        yield env.timeout( random.expovariate( 2 ) ) \n",
    "        # Wait done. Start new customer process\n",
    "        k += 1\n",
    "        env.process(customer_proc(env, \"C-%d\" % k, \n",
    "                                  random.uniform(0.2, 3),\n",
    "                                  random.gammavariate(3, 0.2/3),\n",
    "                                  customerQ, serverQ, \n",
    "                                  qMonitor, waitMonitor))\n",
    "    "
   ]
  },
  {
   "cell_type": "code",
   "execution_count": null,
   "metadata": {
    "collapsed": false
   },
   "outputs": [],
   "source": [
    "dir(random)"
   ]
  },
  {
   "cell_type": "markdown",
   "metadata": {},
   "source": [
    "## The main program\n",
    "Now that all the processes are defined, we can run the simulation. For convenience, we define a function that runs the simulation once. This makes it easy to do repeated simulations of the model.\n",
    "\n",
    "Here, we simulate the particular case that is also simulated by hand in class."
   ]
  },
  {
   "cell_type": "code",
   "execution_count": 12,
   "metadata": {
    "collapsed": false
   },
   "outputs": [
    {
     "data": {
      "image/png": "[encoded data removed]",
      "text/plain": [
       "<matplotlib.figure.Figure at 0x7f05d99ebdd8>"
      ]
     },
     "metadata": {},
     "output_type": "display_data"
    }
   ],
   "source": [
    "def run_sim_once():\n",
    "    \n",
    "    customerQ = []   # A list to hold the waiting customers\n",
    "    serverQ = []     # A list to hold servers waiting for customers\n",
    "    qMonitor = []    # A list to hold recorded queue lengths througout the simulation\n",
    "    waitMonitor = [] # A list to hold recorded wait times \n",
    "    \n",
    "    env = simpy.Environment()\n",
    "    \n",
    "    # Start cashier process\n",
    "    env.process(cashier_proc(env, customerQ, serverQ, qMonitor))\n",
    "    \n",
    "    # Start the customer generator process\n",
    "    env.process( customer_generator_proc(env, customerQ, serverQ, \n",
    "                                        qMonitor, waitMonitor) )\n",
    "    \n",
    "    # Simulate\n",
    "    env.run(until = 12*60)\n",
    "\n",
    "    #print( qMonitor )\n",
    "    qlen = np.asarray(qMonitor) # Turn into numpy array\n",
    "    plt.figure(figsize=(14,6))\n",
    "    plt.step(qlen[:,0], qlen[:,1], where='post', linewidth=3 )\n",
    "    plt.title(\"Queue length\")\n",
    "    plt.show()\n",
    "    \n",
    "run_sim_once()"
   ]
  },
  {
   "cell_type": "code",
   "execution_count": null,
   "metadata": {
    "collapsed": true
   },
   "outputs": [],
   "source": []
  }
 ],
 "metadata": {
  "kernelspec": {
   "display_name": "Python 3",
   "language": "python",
   "name": "python3"
  },
  "language_info": {
   "codemirror_mode": {
    "name": "ipython",
    "version": 3
   },
   "file_extension": ".py",
   "mimetype": "text/x-python",
   "name": "python",
   "nbconvert_exporter": "python",
   "pygments_lexer": "ipython3",
   "version": "3.6.0"
  }
 },
 "nbformat": 4,
 "nbformat_minor": 0
}
